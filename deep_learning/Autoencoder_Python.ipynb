{
 "cells": [
  {
   "cell_type": "code",
   "execution_count": 1,
   "metadata": {
    "collapsed": true
   },
   "outputs": [],
   "source": [
    "import tensorflow as tf"
   ]
  },
  {
   "cell_type": "code",
   "execution_count": null,
   "metadata": {
    "collapsed": true
   },
   "outputs": [],
   "source": [
    "class Autoencoder(object):\n",
    "    def __init__(self, inputs, hps):\n",
    "        '''\n",
    "        Projects the input into a hidden dimension, then down a bottleneck layer.\n",
    "        Then projects the bottleneck layer back to the hidden dimension, before reconstructing the input.\n",
    "        '''\n",
    "        self.inputs = inputs\n",
    "        self.input_dim = tf.shape(inputs)[1]\n",
    "        self.hidden1_dim = hps.hidden1_dim\n",
    "        self.bottleneck_dim = hps.bottleneck_dim\n",
    "        \n",
    "        # initializer for weights\n",
    "        self.weight_init = tf.variance_scaling_initializer()\n",
    "        # learning rate for optim\n",
    "        self.lr = hps.lr\n",
    "        \n",
    "    def build_model(self):\n",
    "        self.reconstruction()\n",
    "        self.cost()\n",
    "        self.train_op()\n",
    "        \n",
    "    def reconstruction(self):\n",
    "        # project down to hidden bottleneck dimension\n",
    "        x = tf.layers.dense(self.inputs, self.hidden1_dim, activation=tf.nn.tanh,\n",
    "                            kernel_initializer=self.weight_init)\n",
    "        x = tf.layers.dense(x, self.bottleneck_dim, activation=tf.nn.tanh,\n",
    "                           kernel_initializer=self.weight_init)\n",
    "        # project back to inputs\n",
    "        x = tf.layers.dense(x, self.hidden1_dim, activation=tf.nn.tanh,\n",
    "                           kernel_initializer=self.weight_init)\n",
    "        # linear activation for inputs\n",
    "        self.reconstruction(x, self.input_dim, kernel_initializer=self.weight_init)\n",
    "        \n",
    "    def cost(self):\n",
    "        # reconstruction error as loss\n",
    "        loss = (self.inputs - self.reconstruction) ** 2\n",
    "        self.cost = tf.reduce_mean(loss)\n",
    "        \n",
    "    def train_op(self):\n",
    "        optim = tf.train.MomentumOptimizer(learning_rate=self.lr, momentum=.9, use_nesterov=True)\n",
    "        self.train_op = optim.minimize(self.cost)"
   ]
  },
  {
   "cell_type": "code",
   "execution_count": null,
   "metadata": {
    "collapsed": true
   },
   "outputs": [],
   "source": [
    "class DenoisingAutoencoder(object):\n",
    "    def __init__(self, inputs, hps):\n",
    "        '''\n",
    "        Projects the input into a hidden dimension, then down a bottleneck layer.\n",
    "        Then projects the bottleneck layer back to the hidden dimension, before reconstructing the input.\n",
    "        '''\n",
    "        self.inputs = inputs\n",
    "        self.input_dim = tf.shape(inputs)[1]\n",
    "        self.hidden1_dim = hps.hidden1_dim\n",
    "        self.bottleneck_dim = hps.bottleneck_dim\n",
    "        \n",
    "        # initializer for weights\n",
    "        self.weight_init = tf.variance_scaling_initializer()\n",
    "        # learning rate for optim\n",
    "        self.lr = hps.lr\n",
    "        \n",
    "    def build_model(self):\n",
    "        self.reconstruction()\n",
    "        self.cost()\n",
    "        self.train_op()\n",
    "        \n",
    "    def reconstruction(self):\n",
    "        # add noise to the inputs\n",
    "        in_noise = tf.random_normal(tf.shape(self.inputs))\n",
    "        noise_scale = .4\n",
    "        x = self.inputs + noise_scale * in_noise\n",
    "        # project down to hidden bottleneck dimension\n",
    "        x = tf.layers.dense(x, self.hidden1_dim, activation=tf.nn.tanh,\n",
    "                            kernel_initializer=self.weight_init)\n",
    "        x = tf.layers.dense(x, self.bottleneck_dim, activation=tf.nn.tanh,\n",
    "                           kernel_initializer=self.weight_init)\n",
    "        # project back to inputs\n",
    "        x = tf.layers.dense(x, self.hidden1_dim, activation=tf.nn.tanh,\n",
    "                           kernel_initializer=self.weight_init)\n",
    "        # linear activation for inputs\n",
    "        self.reconstruction(x, self.input_dim, kernel_initializer=self.weight_init)\n",
    "        \n",
    "    def cost(self):\n",
    "        # reconstruction error as loss\n",
    "        loss = (self.inputs - self.reconstruction) ** 2\n",
    "        self.cost = tf.reduce_mean(loss)\n",
    "        \n",
    "    def train_op(self):\n",
    "        optim = tf.train.MomentumOptimizer(learning_rate=self.lr, momentum=.9, use_nesterov=True)\n",
    "        self.train_op = optim.minimize(self.cost)"
   ]
  }
 ],
 "metadata": {
  "kernelspec": {
   "display_name": "Python 3",
   "language": "python",
   "name": "python3"
  },
  "language_info": {
   "codemirror_mode": {
    "name": "ipython",
    "version": 3
   },
   "file_extension": ".py",
   "mimetype": "text/x-python",
   "name": "python",
   "nbconvert_exporter": "python",
   "pygments_lexer": "ipython3",
   "version": "3.6.3"
  }
 },
 "nbformat": 4,
 "nbformat_minor": 2
}
