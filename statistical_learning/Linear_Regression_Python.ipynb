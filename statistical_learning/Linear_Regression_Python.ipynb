{
 "cells": [
  {
   "cell_type": "code",
   "execution_count": 13,
   "metadata": {},
   "outputs": [
    {
     "name": "stdout",
     "output_type": "stream",
     "text": [
      "                       0         1         2         3\n",
      "0          Newborn_Human      3.20  0.374985  0.117183\n",
      "1            Adult_Human     73.00  1.349982  0.018493\n",
      "2    Pithecanthropus_Man     70.00  0.925011  0.013214\n",
      "3               Squirrel      0.80  0.007620  0.009525\n",
      "4                Hamster      0.15  0.001406  0.009374\n",
      "5             Chimpanzee     50.00  0.419981  0.008400\n",
      "6                 Rabbit      1.40  0.011521  0.008229\n",
      "7           Dog_(Beagle)     10.00  0.071985  0.007199\n",
      "8                    Cat      4.50  0.029982  0.006663\n",
      "9                    Rat      0.40  0.001996  0.004990\n",
      "10  Bottle-Nosed_Dolphin    400.00  1.499985  0.003750\n",
      "11                Beaver     24.00  0.044996  0.001875\n",
      "12               Gorilla    320.00  0.502490  0.001570\n",
      "13                 Tiger    170.00  0.263492  0.001550\n",
      "14                   Owl      1.50  0.002223  0.001482\n",
      "15                 Camel    550.00  0.761990  0.001385\n",
      "16              Elephant   4600.00  5.999984  0.001304\n",
      "17                  Lion    187.00  0.239996  0.001283\n",
      "18                 Sheep    120.00  0.139979  0.001166\n",
      "19                Walrus    800.00  0.925011  0.001156\n",
      "20                 Horse    450.00  0.502490  0.001117\n",
      "21                   Cow    700.00  0.441481  0.000631\n",
      "22               Giraffe    950.00  0.532018  0.000560\n",
      "23          Green_Lizard      0.20  0.000091  0.000454\n",
      "24           Sperm_Whale  35000.00  7.799974  0.000223\n",
      "25                Turtle      3.00  0.000318  0.000106\n",
      "26             Alligator    270.00  0.008391  0.000031\n"
     ]
    }
   ],
   "source": [
    "%matplotlib inline\n",
    "import numpy as np\n",
    "import pandas as pd\n",
    "import scipy.stats as stats\n",
    "import matplotlib.pyplot as plt\n",
    "import sklearn as sk\n",
    "from sklearn import model_selection\n",
    "from sklearn.linear_model import LinearRegression\n",
    "\n",
    "#http://wiki.stat.ucla.edu/socr/index.php/SOCR_Data_Brain2BodyWeight\n",
    "full_df=pd.read_csv('brain-weight.csv', sep=',',header=None)\n",
    "print(full_df)"
   ]
  },
  {
   "cell_type": "markdown",
   "metadata": {},
   "source": [
    "    \n",
    "    Read in the data from the file using pandas \n",
    "    pd.read_csv(file path, seperator, header)\n",
    "    We want to write a function so that we can play around with different data inputs"
   ]
  },
  {
   "cell_type": "code",
   "execution_count": 14,
   "metadata": {
    "collapsed": true
   },
   "outputs": [],
   "source": [
    "# we will use scikit learns linear_model to do linear regression\n",
    "def fit_and_graph(df, index):\n",
    "    # for simplicity lets remove the extra columns 0,3 and keep the x,y  we want 1,2\n",
    "    df = full_df[full_df.columns.difference([0,3])]  \n",
    "    # toss out lines 16 and 24 .. elephent and sperm whale, they are outliers\n",
    "\n",
    "    \n",
    "    # scikit wants the values in rows instead of columns so we pivot the matrix using df.values.reshape(col,row)\n",
    "    # should break this up so its not so confusing\n",
    "    x = df[1].values.reshape(len(df[1]), 1)\n",
    "    y = df[2].values.reshape(len(df[2]), 1)\n",
    "\n",
    "\n",
    "    modeler = LinearRegression()\n",
    "\n",
    "    fit = modeler.fit(x,y)\n",
    "    prediction = modeler.predict(x)\n",
    "\n",
    "    #if we dont call out the figure index, we will just graph ontop of each other\n",
    "    plt.figure(index)\n",
    "    plt.scatter(x, prediction)\n",
    "    plt.xlabel(\"Weight\")\n",
    "    plt.ylabel(\"Brain Size\")\n",
    "    plt.title(\"Weight Vs Vrain Size\")\n",
    "    \n",
    "    #ploit the fit\n",
    "    plt.plot(x, prediction, color='k')\n",
    "    \n",
    "    return x, y, fit, prediction"
   ]
  },
  {
   "cell_type": "markdown",
   "metadata": {},
   "source": [
    "    Now we can call our function and get back all the relevant data"
   ]
  },
  {
   "cell_type": "code",
   "execution_count": 15,
   "metadata": {},
   "outputs": [
    {
     "data": {
      "image/png": "[encoded data removed]",
      "text/plain": [
       "<matplotlib.figure.Figure at 0x7f91837cf198>"
      ]
     },
     "metadata": {},
     "output_type": "display_data"
    }
   ],
   "source": [
    "x, y, fit, prediction = fit_and_graph(full_df, 1)"
   ]
  },
  {
   "cell_type": "markdown",
   "metadata": {},
   "source": [
    "    This is pretty useless due to the sperm whale messing everything up\n",
    "    seems to work a lot better without the huge animals\n",
    "    but how good is it really?\n",
    "    lets checkout of the mean squares error (MSE)"
   ]
  },
  {
   "cell_type": "code",
   "execution_count": 16,
   "metadata": {},
   "outputs": [
    {
     "name": "stdout",
     "output_type": "stream",
     "text": [
      "46241366.1752\n"
     ]
    }
   ],
   "source": [
    "mse = np.mean((x - prediction)**2)\n",
    "print(mse)"
   ]
  },
  {
   "cell_type": "markdown",
   "metadata": {},
   "source": [
    "low MSE is best, but its also relative.. so lets see if we can improve it\n",
    "lets toss out the elephant and whale and see if it works better"
   ]
  },
  {
   "cell_type": "code",
   "execution_count": 17,
   "metadata": {},
   "outputs": [
    {
     "data": {
      "image/png": "[encoded data removed]",
      "text/plain": [
       "<matplotlib.figure.Figure at 0x7f91838c7128>"
      ]
     },
     "metadata": {},
     "output_type": "display_data"
    }
   ],
   "source": [
    "full_df=pd.read_csv('brain-weight.csv', sep=',',header=None)\n",
    "full_df.drop([16,24], inplace=True)\n",
    "x, y, fit, prediction = fit_and_graph(full_df,2)"
   ]
  },
  {
   "cell_type": "markdown",
   "metadata": {},
   "source": [
    "    seems to work a lot better without the huge animals\n",
    "    but how good is it really?\n",
    "    lets checkout of the mean squares error (MSE)\n"
   ]
  },
  {
   "cell_type": "code",
   "execution_count": 18,
   "metadata": {},
   "outputs": [
    {
     "name": "stdout",
     "output_type": "stream",
     "text": [
      "118320.381113\n"
     ]
    }
   ],
   "source": [
    "mse = np.mean((x - prediction)**2)\n",
    "print(mse)"
   ]
  },
  {
   "cell_type": "markdown",
   "metadata": {},
   "source": [
    "    since the MSE dropped considerably, it seems we improved the model by tossing the elephant and whale\n",
    "    however we should be training our model, luckily scikit provides a tool for this\n",
    "    it is important that its random so that we dont accidently introduce bias into our data"
   ]
  },
  {
   "cell_type": "code",
   "execution_count": 19,
   "metadata": {
    "collapsed": true
   },
   "outputs": [],
   "source": [
    "xtrain, xtest, ytrain, ytest = sk.model_selection.train_test_split(x, y, test_size=.25)"
   ]
  },
  {
   "cell_type": "markdown",
   "metadata": {},
   "source": [
    "    this is a small dataset so we may not notice any improvement"
   ]
  },
  {
   "cell_type": "code",
   "execution_count": 20,
   "metadata": {},
   "outputs": [
    {
     "name": "stdout",
     "output_type": "stream",
     "text": [
      "xtr (18, 1)\n",
      "xts (7, 1)\n",
      "ytr (18, 1)\n",
      "yts (7, 1)\n",
      "xprd (18, 1)\n",
      "xtst (18, 1)\n"
     ]
    }
   ],
   "source": [
    "modeler = LinearRegression()\n",
    "modeler.fit(xtrain,ytrain)\n",
    "print('xtr', xtrain.shape)\n",
    "print('xts', xtest.shape)\n",
    "\n",
    "print('ytr', ytrain.shape)\n",
    "print('yts', ytest.shape)\n",
    "\n",
    "prediction_train = modeler.predict(xtrain)\n",
    "print('xprd', prediction_train.shape)\n",
    "prediction_test = modeler.predict(xtest)\n",
    "print('xtst', prediction_train.shape)"
   ]
  },
  {
   "cell_type": "code",
   "execution_count": 21,
   "metadata": {},
   "outputs": [
    {
     "name": "stdout",
     "output_type": "stream",
     "text": [
      "0.0266161497772\n"
     ]
    }
   ],
   "source": [
    "mse_train = np.mean((ytrain - prediction_train)**2)\n",
    "print(mse_train)"
   ]
  },
  {
   "cell_type": "code",
   "execution_count": 22,
   "metadata": {},
   "outputs": [
    {
     "name": "stdout",
     "output_type": "stream",
     "text": [
      "118320.381113\n"
     ]
    }
   ],
   "source": [
    "mse_test = np.mean((ytest - prediction_test)**2)\n",
    "print(mse)"
   ]
  },
  {
   "cell_type": "code",
   "execution_count": 23,
   "metadata": {},
   "outputs": [
    {
     "data": {
      "text/plain": [
       "<matplotlib.collections.LineCollection at 0x7f91835f4e80>"
      ]
     },
     "execution_count": 23,
     "metadata": {},
     "output_type": "execute_result"
    },
    {
     "data": {
      "image/png": "[encoded data removed]",
      "text/plain": [
       "<matplotlib.figure.Figure at 0x7f91836263c8>"
      ]
     },
     "metadata": {},
     "output_type": "display_data"
    }
   ],
   "source": [
    "plt.scatter(prediction_train, prediction_train - ytrain, c='b')\n",
    "plt.scatter(prediction_test, prediction_test - ytest, c='g')\n",
    "plt.hlines(y=0,xmin=0, xmax=1)"
   ]
  },
  {
   "cell_type": "markdown",
   "metadata": {},
   "source": [
    "    its hard to tell because there isnt much data, but the idea behind this step is to check if there is any underlying structure to our data that we may have missed while explaining our model. \n",
    "    we need to have a pretty random scatter to feel good about our model"
   ]
  }
 ],
 "metadata": {
  "kernelspec": {
   "display_name": "Python 3",
   "language": "python",
   "name": "python3"
  },
  "language_info": {
   "codemirror_mode": {
    "name": "ipython",
    "version": 3
   },
   "file_extension": ".py",
   "mimetype": "text/x-python",
   "name": "python",
   "nbconvert_exporter": "python",
   "pygments_lexer": "ipython3",
   "version": "3.5.2+"
  }
 },
 "nbformat": 4,
 "nbformat_minor": 1
}
