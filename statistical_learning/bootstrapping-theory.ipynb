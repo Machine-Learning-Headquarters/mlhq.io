{
 "cells": [
  {
   "cell_type": "markdown",
   "metadata": {},
   "source": [
    "# Bootstrapping Theory\n",
    "\n",
    "Bootstrapping, sometimes called resampling, is a method of combining models in order to lower bias and variance at the same time!\n",
    "\n",
    "Bootstrapping for param estimates. \n",
    "\n",
    "Sampling with replacement, calculate the parameter. Required for bootstrapping.\n",
    "\n",
    "Find the mean and variance of the results.\n",
    "\n",
    "Mean tells us the expected value.\n",
    "\n",
    "Variance tells us how accurate that estimate is (large variance is inaccurate)\n",
    "\n",
    "\n"
   ]
  },
  {
   "cell_type": "markdown",
   "metadata": {},
   "source": [
    "# Sampling with replacement \n",
    "\n",
    "just means that when you \"take out\" the sample, you leave a duplicate in its place. \n",
    "\n",
    "Ex Sample without replacement:\n",
    "data = {1,2,3,4,5} sample out 4 - result data = {1,2,3,5}\n",
    "another sample\n",
    "data = {1,2,3,5} sample out 1 - result data = {2,3,5}\n",
    "etc...\n",
    "\n",
    "Sampling with replacement just means that you can sample out the same number multiple times, since you leave the \"duplicate\" inside the original dataset"
   ]
  },
  {
   "cell_type": "markdown",
   "metadata": {},
   "source": []
  }
 ],
 "metadata": {
  "kernelspec": {
   "display_name": "Python 3",
   "language": "python",
   "name": "python3"
  },
  "language_info": {
   "codemirror_mode": {
    "name": "ipython",
    "version": 3
   },
   "file_extension": ".py",
   "mimetype": "text/x-python",
   "name": "python",
   "nbconvert_exporter": "python",
   "pygments_lexer": "ipython3",
   "version": "3.6.3"
  }
 },
 "nbformat": 4,
 "nbformat_minor": 2
}
