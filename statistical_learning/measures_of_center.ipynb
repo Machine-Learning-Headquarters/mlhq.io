{
 "cells": [
  {
   "cell_type": "markdown",
   "metadata": {},
   "source": [
    "# Measures of Center"
   ]
  },
  {
   "cell_type": "markdown",
   "metadata": {},
   "source": [
    "Measures of center are <b>important</b> because they give us an intuition about the dataset we are working with. There are a few different measurements that we can make, and certain situations in which one might be more useful than the other.\n",
    "\n",
    "* [Mean](#mean):           The average value of the dataset\n",
    "* [Median](#median):       The center value of the dataset\n",
    "* [Mode](#mode):           The most common value of the dataset\n",
    "* [Histogram](#histogram): Find the shape of the data\n"
   ]
  },
  {
   "cell_type": "markdown",
   "metadata": {},
   "source": [
    "### Boiler Plate Imports"
   ]
  },
  {
   "cell_type": "markdown",
   "metadata": {},
   "source": [
    "#### Matplotlib\n",
    "A very easy to use graphing tool."
   ]
  },
  {
   "cell_type": "code",
   "execution_count": 4,
   "metadata": {
    "collapsed": true
   },
   "outputs": [],
   "source": [
    "%matplotlib inline\n",
    "import matplotlib.pyplot as plt"
   ]
  },
  {
   "cell_type": "markdown",
   "metadata": {},
   "source": [
    "#### Numpy\n",
    "Numpy provides a lot of statistical functions that we use for machine learning."
   ]
  },
  {
   "cell_type": "code",
   "execution_count": 5,
   "metadata": {
    "collapsed": true
   },
   "outputs": [],
   "source": [
    "import numpy as np "
   ]
  },
  {
   "cell_type": "markdown",
   "metadata": {},
   "source": [
    "#### Pandas\n",
    "Pandas provides us a dataframe, a robust multidimensional array object."
   ]
  },
  {
   "cell_type": "code",
   "execution_count": 6,
   "metadata": {
    "collapsed": true
   },
   "outputs": [],
   "source": [
    "import pandas as pd # we will use this for our dataframe data structure"
   ]
  },
  {
   "cell_type": "markdown",
   "metadata": {},
   "source": [
    "#### Scipy\n",
    "Scipy is a library full of statistical tools that aren't used as much in machine learning, but invaluable in statistics."
   ]
  },
  {
   "cell_type": "code",
   "execution_count": 7,
   "metadata": {
    "collapsed": true
   },
   "outputs": [],
   "source": [
    "import scipy.stats as sps # For mode, not commonly used in ML"
   ]
  },
  {
   "cell_type": "markdown",
   "metadata": {},
   "source": [
    "#### Import the data\n",
    "We use pandas to load our CSV file into the pandas dataframe, this gives us a matrix to work on with tons of extra features."
   ]
  },
  {
   "cell_type": "code",
   "execution_count": 8,
   "metadata": {
    "collapsed": true
   },
   "outputs": [],
   "source": [
    "df = pd.read_csv('./Pokemon.csv')"
   ]
  },
  {
   "cell_type": "markdown",
   "metadata": {},
   "source": [
    "<div id=\"mean\"></div>"
   ]
  },
  {
   "cell_type": "markdown",
   "metadata": {},
   "source": [
    "# Mean"
   ]
  },
  {
   "cell_type": "markdown",
   "metadata": {},
   "source": [
    "The mean is the average value of the dataset. It is subject to influence by outliers, but is used widely in ML. It is good to be aware of its limitations, though."
   ]
  },
  {
   "cell_type": "code",
   "execution_count": 20,
   "metadata": {},
   "outputs": [
    {
     "name": "stdout",
     "output_type": "stream",
     "text": [
      "Mean: 79.00125\n"
     ]
    }
   ],
   "source": [
    "attack = df['Attack']\n",
    "mean = np.mean(attack)\n",
    "print('Mean:', mean)"
   ]
  },
  {
   "cell_type": "markdown",
   "metadata": {},
   "source": [
    "We can see here that the average attack for all pokemon is 79. However, we aren't sure if this is low or high. There may be many pokemon who have higher attack, or a single pokemon that has a huge attack. Either of these cases can move the mean. Be aware of this!"
   ]
  },
  {
   "cell_type": "markdown",
   "metadata": {},
   "source": [
    "<div id=median></div>"
   ]
  },
  {
   "cell_type": "markdown",
   "metadata": {},
   "source": [
    "# Median"
   ]
  },
  {
   "cell_type": "markdown",
   "metadata": {},
   "source": [
    "The media is the literal center of the dataset. This is a good metric to test if the data is skewed. If the mean and median are close, the data is mostly normally distributed. "
   ]
  },
  {
   "cell_type": "code",
   "execution_count": 21,
   "metadata": {},
   "outputs": [
    {
     "name": "stdout",
     "output_type": "stream",
     "text": [
      "Median: 75.0\n"
     ]
    }
   ],
   "source": [
    "median = np.median(attack)\n",
    "print('Median:', median)"
   ]
  },
  {
   "cell_type": "markdown",
   "metadata": {},
   "source": [
    "The median here is 75, less than the mean. The median is the exact center of the data, The median is less influenced by outliers, because a single pokemon with crazy high or low attack won't move the median much."
   ]
  },
  {
   "cell_type": "markdown",
   "metadata": {},
   "source": [
    "<div id=mode></div>"
   ]
  },
  {
   "cell_type": "markdown",
   "metadata": {},
   "source": [
    "# Mode"
   ]
  },
  {
   "cell_type": "markdown",
   "metadata": {},
   "source": [
    "The mode is the most common value in the dataset. Not necessarily the center, or the average. It is simply the value that shows up most frequently."
   ]
  },
  {
   "cell_type": "code",
   "execution_count": 11,
   "metadata": {},
   "outputs": [
    {
     "name": "stdout",
     "output_type": "stream",
     "text": [
      "0    100\n",
      "dtype: int64\n",
      "ModeResult(mode=array([100]), count=array([40]))\n"
     ]
    }
   ],
   "source": [
    "mode = sps.mode(attack)\n",
    "print(df['Attack'].mode())\n",
    "print(mode)"
   ]
  },
  {
   "cell_type": "markdown",
   "metadata": {},
   "source": [
    "This is saying that the most common attack in the dataset is 100, showing up 40 times. \n",
    "\n",
    "We expect the highest peak of the histogram to be at 100, where the mode is."
   ]
  },
  {
   "cell_type": "markdown",
   "metadata": {},
   "source": [
    "<div id=\"histogram\"></div>"
   ]
  },
  {
   "cell_type": "markdown",
   "metadata": {},
   "source": [
    "# Histogram"
   ]
  },
  {
   "cell_type": "markdown",
   "metadata": {},
   "source": [
    "Here we will use 150, since it shows a reasonable seperation of the data. We also start to see our \"Mode\" form correctly here."
   ]
  },
  {
   "cell_type": "code",
   "execution_count": 24,
   "metadata": {},
   "outputs": [
    {
     "data": {
      "text/plain": [
       "array([[<matplotlib.axes._subplots.AxesSubplot object at 0x7f7dd48cee10>]], dtype=object)"
      ]
     },
     "execution_count": 24,
     "metadata": {},
     "output_type": "execute_result"
    },
    {
     "data": {
      "image/png": "[encoded data removed]",
      "text/plain": [
       "<matplotlib.figure.Figure at 0x7f7dd4a74b70>"
      ]
     },
     "metadata": {},
     "output_type": "display_data"
    }
   ],
   "source": [
    "df.hist(column=['Attack'],bins=150)"
   ]
  },
  {
   "cell_type": "markdown",
   "metadata": {},
   "source": [
    "If we don't specify how many bins to use, we get a big glob that abstracts out the details of our plot."
   ]
  },
  {
   "cell_type": "code",
   "execution_count": 23,
   "metadata": {},
   "outputs": [
    {
     "data": {
      "text/plain": [
       "array([[<matplotlib.axes._subplots.AxesSubplot object at 0x7f7dd495bda0>]], dtype=object)"
      ]
     },
     "execution_count": 23,
     "metadata": {},
     "output_type": "execute_result"
    },
    {
     "data": {
      "image/png": "[encoded data removed]",
      "text/plain": [
       "<matplotlib.figure.Figure at 0x7f7dd4944080>"
      ]
     },
     "metadata": {},
     "output_type": "display_data"
    }
   ],
   "source": [
    "df.hist(column=['Attack'])"
   ]
  },
  {
   "cell_type": "code",
   "execution_count": 30,
   "metadata": {},
   "outputs": [
    {
     "name": "stdout",
     "output_type": "stream",
     "text": [
      "190\n",
      "Pokemon 163\n"
     ]
    }
   ],
   "source": [
    "attack = df['Attack']\n",
    "print(np.max(attack))\n",
    "print('Pokemon',np.argmax(attack))"
   ]
  },
  {
   "cell_type": "markdown",
   "metadata": {},
   "source": [
    "So who is it that is skewing our dataset with thier huge attack?"
   ]
  },
  {
   "cell_type": "code",
   "execution_count": 31,
   "metadata": {},
   "outputs": [
    {
     "name": "stdout",
     "output_type": "stream",
     "text": [
      "#                             150\n",
      "Name          MewtwoMega Mewtwo X\n",
      "Type 1                    Psychic\n",
      "Type 2                   Fighting\n",
      "Total                         780\n",
      "HP                            106\n",
      "Attack                        190\n",
      "Defense                       100\n",
      "Sp. Atk                       154\n",
      "Sp. Def                       100\n",
      "Speed                         130\n",
      "Generation                      1\n",
      "Legendary                    True\n",
      "Name: 163, dtype: object\n"
     ]
    }
   ],
   "source": [
    "print(df.loc[163])"
   ]
  }
 ],
 "metadata": {
  "kernelspec": {
   "display_name": "Python 3",
   "language": "python",
   "name": "python3"
  },
  "language_info": {
   "codemirror_mode": {
    "name": "ipython",
    "version": 3
   },
   "file_extension": ".py",
   "mimetype": "text/x-python",
   "name": "python",
   "nbconvert_exporter": "python",
   "pygments_lexer": "ipython3",
   "version": "3.5.2+"
  }
 },
 "nbformat": 4,
 "nbformat_minor": 2
}
