{
 "cells": [
  {
   "cell_type": "markdown",
   "metadata": {},
   "source": [
    "# Predicting the recurrance of breast cancer using logistic regression"
   ]
  },
  {
   "cell_type": "code",
   "execution_count": 1,
   "metadata": {
    "collapsed": false
   },
   "outputs": [
    {
     "data": {
      "text/html": [
       "<style>div.prompt {display:none}</style>"
      ],
      "text/plain": [
       "<IPython.core.display.HTML object>"
      ]
     },
     "metadata": {},
     "output_type": "display_data"
    }
   ],
   "source": [
    "%%HTML  \n",
    "<style>div.prompt {display:none}</style>"
   ]
  },
  {
   "cell_type": "markdown",
   "metadata": {},
   "source": [
    "\n",
    "   1. Sample code number            id number\n",
    "   2. Clump Thickness               1 - 10\n",
    "   3. Uniformity of Cell Size       1 - 10\n",
    "   4. Uniformity of Cell Shape      1 - 10\n",
    "   5. Marginal Adhesion             1 - 10\n",
    "   6. Single Epithelial Cell Size   1 - 10\n",
    "   7. Bare Nuclei                   1 - 10\n",
    "   8. Bland Chromatin               1 - 10\n",
    "   9. Normal Nucleoli               1 - 10\n",
    "  10. Mitoses                       1 - 10\n",
    "  11. Class:                        (2 for benign, 4 for malignant)\n",
    "  "
   ]
  },
  {
   "cell_type": "code",
   "execution_count": 2,
   "metadata": {
    "collapsed": false
   },
   "outputs": [
    {
     "name": "stdout",
     "output_type": "stream",
     "text": [
      "          ID  Thickness  Size Uniformity  Shape Uniformity  Adhesion  \\\n",
      "0    1000025          5                1                 1         1   \n",
      "1    1002945          5                4                 4         5   \n",
      "2    1015425          3                1                 1         1   \n",
      "3    1016277          6                8                 8         1   \n",
      "4    1017023          4                1                 1         3   \n",
      "5    1017122          8               10                10         8   \n",
      "6    1018099          1                1                 1         1   \n",
      "7    1018561          2                1                 2         1   \n",
      "8    1033078          2                1                 1         1   \n",
      "9    1033078          4                2                 1         1   \n",
      "10   1035283          1                1                 1         1   \n",
      "11   1036172          2                1                 1         1   \n",
      "12   1041801          5                3                 3         3   \n",
      "13   1043999          1                1                 1         1   \n",
      "14   1044572          8                7                 5        10   \n",
      "15   1047630          7                4                 6         4   \n",
      "16   1048672          4                1                 1         1   \n",
      "17   1049815          4                1                 1         1   \n",
      "18   1050670         10                7                 7         6   \n",
      "19   1050718          6                1                 1         1   \n",
      "20   1054590          7                3                 2        10   \n",
      "21   1054593         10                5                 5         3   \n",
      "22   1056784          3                1                 1         1   \n",
      "23   1057013          8                4                 5         1   \n",
      "24   1059552          1                1                 1         1   \n",
      "25   1065726          5                2                 3         4   \n",
      "26   1066373          3                2                 1         1   \n",
      "27   1066979          5                1                 1         1   \n",
      "28   1067444          2                1                 1         1   \n",
      "29   1070935          1                1                 3         1   \n",
      "..       ...        ...              ...               ...       ...   \n",
      "669  1350423          5               10                10         8   \n",
      "670  1352848          3               10                 7         8   \n",
      "671  1353092          3                2                 1         2   \n",
      "672  1354840          2                1                 1         1   \n",
      "673  1354840          5                3                 2         1   \n",
      "674  1355260          1                1                 1         1   \n",
      "675  1365075          4                1                 4         1   \n",
      "676  1365328          1                1                 2         1   \n",
      "677  1368267          5                1                 1         1   \n",
      "678  1368273          1                1                 1         1   \n",
      "679  1368882          2                1                 1         1   \n",
      "680  1369821         10               10                10        10   \n",
      "681  1371026          5               10                10        10   \n",
      "682  1371920          5                1                 1         1   \n",
      "683   466906          1                1                 1         1   \n",
      "684   466906          1                1                 1         1   \n",
      "685   534555          1                1                 1         1   \n",
      "686   536708          1                1                 1         1   \n",
      "687   566346          3                1                 1         1   \n",
      "688   603148          4                1                 1         1   \n",
      "689   654546          1                1                 1         1   \n",
      "690   654546          1                1                 1         3   \n",
      "691   695091          5               10                10         5   \n",
      "692   714039          3                1                 1         1   \n",
      "693   763235          3                1                 1         1   \n",
      "694   776715          3                1                 1         1   \n",
      "695   841769          2                1                 1         1   \n",
      "696   888820          5               10                10         3   \n",
      "697   897471          4                8                 6         4   \n",
      "698   897471          4                8                 8         5   \n",
      "\n",
      "     Single Cell Size Bare Nuclei  Chromatin  Nucleoli  Mitosis  Class  \n",
      "0                   2           1          3         1        1      2  \n",
      "1                   7          10          3         2        1      2  \n",
      "2                   2           2          3         1        1      2  \n",
      "3                   3           4          3         7        1      2  \n",
      "4                   2           1          3         1        1      2  \n",
      "5                   7          10          9         7        1      4  \n",
      "6                   2          10          3         1        1      2  \n",
      "7                   2           1          3         1        1      2  \n",
      "8                   2           1          1         1        5      2  \n",
      "9                   2           1          2         1        1      2  \n",
      "10                  1           1          3         1        1      2  \n",
      "11                  2           1          2         1        1      2  \n",
      "12                  2           3          4         4        1      4  \n",
      "13                  2           3          3         1        1      2  \n",
      "14                  7           9          5         5        4      4  \n",
      "15                  6           1          4         3        1      4  \n",
      "16                  2           1          2         1        1      2  \n",
      "17                  2           1          3         1        1      2  \n",
      "18                  4          10          4         1        2      4  \n",
      "19                  2           1          3         1        1      2  \n",
      "20                  5          10          5         4        4      4  \n",
      "21                  6           7          7        10        1      4  \n",
      "22                  2           1          2         1        1      2  \n",
      "23                  2           ?          7         3        1      4  \n",
      "24                  2           1          3         1        1      2  \n",
      "25                  2           7          3         6        1      4  \n",
      "26                  1           1          2         1        1      2  \n",
      "27                  2           1          2         1        1      2  \n",
      "28                  2           1          2         1        1      2  \n",
      "29                  2           1          1         1        1      2  \n",
      "..                ...         ...        ...       ...      ...    ...  \n",
      "669                 5           5          7        10        1      4  \n",
      "670                 5           8          7         4        1      4  \n",
      "671                 2           1          3         1        1      2  \n",
      "672                 2           1          3         1        1      2  \n",
      "673                 3           1          1         1        1      2  \n",
      "674                 2           1          2         1        1      2  \n",
      "675                 2           1          1         1        1      2  \n",
      "676                 2           1          2         1        1      2  \n",
      "677                 2           1          1         1        1      2  \n",
      "678                 2           1          1         1        1      2  \n",
      "679                 2           1          1         1        1      2  \n",
      "680                 5          10         10        10        7      4  \n",
      "681                 4          10          5         6        3      4  \n",
      "682                 2           1          3         2        1      2  \n",
      "683                 2           1          1         1        1      2  \n",
      "684                 2           1          1         1        1      2  \n",
      "685                 2           1          1         1        1      2  \n",
      "686                 2           1          1         1        1      2  \n",
      "687                 2           1          2         3        1      2  \n",
      "688                 2           1          1         1        1      2  \n",
      "689                 2           1          1         1        8      2  \n",
      "690                 2           1          1         1        1      2  \n",
      "691                 4           5          4         4        1      4  \n",
      "692                 2           1          1         1        1      2  \n",
      "693                 2           1          2         1        2      2  \n",
      "694                 3           2          1         1        1      2  \n",
      "695                 2           1          1         1        1      2  \n",
      "696                 7           3          8        10        2      4  \n",
      "697                 3           4         10         6        1      4  \n",
      "698                 4           5         10         4        1      4  \n",
      "\n",
      "[699 rows x 11 columns]\n"
     ]
    }
   ],
   "source": [
    "%matplotlib inline\n",
    "import numpy as np\n",
    "import pandas as pd\n",
    "import scipy.stats as stats\n",
    "import matplotlib.pyplot as plt\n",
    "import sklearn as sk\n",
    "from sklearn import model_selection\n",
    "from sklearn.linear_model import LogisticRegression\n",
    "from sklearn import metrics #use metric to get the model stats\n",
    "#http://wiki.stat.ucla.edu/socr/index.php/SOCR_Data_Brain2BodyWeight\n",
    "\n",
    "df=pd.read_csv('../data/breast-cancer-wisconsin.data', sep=',',names=['ID', 'Thickness', 'Size Uniformity', 'Shape Uniformity', 'Adhesion', 'Single Cell Size', 'Bare Nuclei', 'Chromatin', 'Nucleoli', 'Mitosis', 'Class'])\n",
    "print(df)"
   ]
  },
  {
   "cell_type": "markdown",
   "metadata": {},
   "source": [
    "    This dataset is broken in that it contains 16 question marks in certain rows, we will need to drop those rows in order to process the data without changing it."
   ]
  },
  {
   "cell_type": "code",
   "execution_count": 3,
   "metadata": {
    "collapsed": false
   },
   "outputs": [
    {
     "name": "stdout",
     "output_type": "stream",
     "text": [
      "(683, 11)\n"
     ]
    }
   ],
   "source": [
    "for row in df['Bare Nuclei']:\n",
    "    df.replace([\"?\", 'NaN'], np.nan, inplace = True)\n",
    "\n",
    "df = df.dropna(how='any') #get rid of any NA / NaN\n",
    "print(df.shape)"
   ]
  },
  {
   "cell_type": "code",
   "execution_count": 15,
   "metadata": {
    "collapsed": false
   },
   "outputs": [
    {
     "name": "stdout",
     "output_type": "stream",
     "text": [
      "[[ 0.24515515  0.16142571  0.27161638  0.17946675 -0.04158785  0.34698953\n",
      "   0.1815928   0.19130598  0.20634236]]\n",
      "[-6.25906995]\n",
      "[8]\n",
      "0.864921406762\n",
      "0.0614934114202\n",
      "0.12298682284\n",
      "0.0\n",
      "0.864836593916\n"
     ]
    }
   ],
   "source": [
    "X = df.drop(['ID', 'Class'], axis=1)\n",
    "Y = df['Class']\n",
    "logistic = LogisticRegression()\n",
    "fit = logistic.fit(X,Y)\n",
    "prediction = logistic.predict(X)\n",
    "\n",
    "print(logistic.coef_)\n",
    "print(logistic.intercept_)\n",
    "print(logistic.n_iter_)\n",
    "exp_v = metrics.explained_variance_score(Y, prediction)\t#Explained variance regression score function\n",
    "mar = metrics.mean_absolute_error(Y, prediction)\t#Mean absolute error regression loss\n",
    "mse = metrics.mean_squared_error(Y, prediction)\t#Mean squared error regression loss\n",
    "mae = metrics.median_absolute_error(Y, prediction)\t#Median absolute error regression loss\n",
    "r2 = metrics.r2_score(Y, prediction)\t#R^2 (coefficient of determination) regression score function.\n",
    "\n",
    "print(exp_v)\n",
    "print(mar)\n",
    "print(mse)\n",
    "print(mae)\n",
    "print(r2)"
   ]
  },
  {
   "cell_type": "code",
   "execution_count": 37,
   "metadata": {
    "collapsed": false
   },
   "outputs": [
    {
     "name": "stdout",
     "output_type": "stream",
     "text": [
      "   Thickness  Size Uniformity  Shape Uniformity  Adhesion  Single Cell Size  \\\n",
      "0          5                1                 1         1                 2   \n",
      "\n",
      "  Bare Nuclei  Chromatin  Nucleoli  Mitosis  \n",
      "0           1          3         1        1  \n",
      "[ 0.96137797  0.03862203]\n",
      "[2 4]\n"
     ]
    }
   ],
   "source": [
    "print(X.loc[[0]])\n",
    "print(logistic.predict_proba(X)[0])\n",
    "print(logistic.classes_)"
   ]
  },
  {
   "cell_type": "markdown",
   "metadata": {},
   "source": [
    "This shows that there is a probability of 96% that it will classify as 2, which if you recall is \n",
    "\n",
    "Class: (2 for benign, 4 for malignant)\n",
    "\n",
    "We already know this is the correct answer from the data, but we can use this to make further predictions by inputting another set of the predictos"
   ]
  },
  {
   "cell_type": "markdown",
   "metadata": {},
   "source": [
    "We can run RLR to see if there might be a way we can customize our LR to get better results"
   ]
  },
  {
   "cell_type": "code",
   "execution_count": 13,
   "metadata": {
    "collapsed": false
   },
   "outputs": [
    {
     "name": "stdout",
     "output_type": "stream",
     "text": [
      "Thickness 0.55\n",
      "Size Uniformity 0.58\n",
      "Shape Uniformity 0.555\n",
      "Adhesion 0.48\n",
      "Single Cell Size 0.43\n",
      "Bare Nuclei 0.875\n",
      "Chromatin 0.475\n",
      "Nucleoli 0.57\n",
      "Mitosis 0.04\n"
     ]
    }
   ],
   "source": [
    "from sklearn.linear_model import RandomizedLogisticRegression\n",
    "logistic = RandomizedLogisticRegression()\n",
    "fit = logistic.fit(X,Y)\n",
    "\n",
    "    \n",
    "for x,y in (list(zip(list(X), fit.scores_))):\n",
    "    print(x,y)"
   ]
  },
  {
   "cell_type": "markdown",
   "metadata": {},
   "source": [
    "We can see that probably Mitosis doesnt contribute very much to reoccuring breast cancer"
   ]
  },
  {
   "cell_type": "markdown",
   "metadata": {},
   "source": []
  },
  {
   "cell_type": "code",
   "execution_count": null,
   "metadata": {
    "collapsed": true
   },
   "outputs": [],
   "source": []
  },
  {
   "cell_type": "code",
   "execution_count": null,
   "metadata": {
    "collapsed": true
   },
   "outputs": [],
   "source": []
  },
  {
   "cell_type": "code",
   "execution_count": null,
   "metadata": {
    "collapsed": true
   },
   "outputs": [],
   "source": []
  },
  {
   "cell_type": "code",
   "execution_count": null,
   "metadata": {
    "collapsed": true
   },
   "outputs": [],
   "source": []
  },
  {
   "cell_type": "code",
   "execution_count": null,
   "metadata": {
    "collapsed": true
   },
   "outputs": [],
   "source": []
  }
 ],
 "metadata": {
  "kernelspec": {
   "display_name": "Python 3",
   "language": "python",
   "name": "python3"
  },
  "language_info": {
   "codemirror_mode": {
    "name": "ipython",
    "version": 3
   },
   "file_extension": ".py",
   "mimetype": "text/x-python",
   "name": "python",
   "nbconvert_exporter": "python",
   "pygments_lexer": "ipython3",
   "version": "3.5.2"
  }
 },
 "nbformat": 4,
 "nbformat_minor": 1
}
